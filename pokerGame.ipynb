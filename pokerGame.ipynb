{
 "cells": [
  {
   "cell_type": "markdown",
   "metadata": {},
   "source": [
    "## Poker Game Card Shuffling\n",
    "#### By Anthony Simao\n",
    "### How I did it:\n",
    "- The first thing I did was to create a custom class for a Card object that holds a number value and a suit.\n",
    "- I then populated a deck of cards with one of each number for each suit (52 cards total).\n",
    "- The next step was to have a singular instance of the game being run and verify that the outputs were correct and I was looking for the right win conditions.\n",
    "- Once I could succesfully run a single game (Most likely with no winners), I put it inside a while loop and counted the number of games it took to succeed. (This was later put in a function due to it's repetition)\n",
    "- That was then put inside of another while loop, that ran it 100 times, tracked each of the number of games needed to run, and averaged them.\n",
    "- That was **again** put into a while loop that ran 100 times, collecting each of the averages to find a overall average, which tends towards 206.\n",
    "- The final step was to seperate out each of those functions in a notebook, add the apropriate printing statements for each example, and clean it all up."
   ]
  },
  {
   "cell_type": "markdown",
   "metadata": {},
   "source": [
    "### Expected Number of Games (Bonus)\n",
    "A deck of cards has 52 cards total\n",
    "The probability of one person getting 4 aces can be found by finding the number of ways that a player can get 7 extra cards from the remaining non-ace cards (48 total).\n",
    "<br>This is represented as: ${48 \\choose 7}$\n",
    "\n",
    "This is then put over the number of ways to distribute 11 cards out of a whole deck in total. Showing the probability of a single player getting 4 aces.\n",
    "<br>This is represented as: $\\frac{48 \\choose 7}{52 \\choose 11}$\n",
    "\n",
    "That is then multiplied by 4, because we have 4 players total.\n",
    "<br>This is represented as: $4 \\cdot \\frac{48 \\choose 7}{52 \\choose 11}$\n",
    "\n",
    "In order to get the number of expected games it would take to reach this probability, you would need to take the reciprocal of that function.\n",
    "<br>This is represented as: $$\\frac{1}{4 \\cdot \\frac{48 \\choose 7}{52 \\choose 11}} = 205.09469697$$\n",
    "\n",
    "Since we cannot play $.09$ of a game, we use the ceiling function to round up. $$\\lceil 205.09469697 \\rceil = 206$$\n",
    "This is seen in the last cell of my notebook as Python results show that the average of averages tends towards $206$.\n",
    "\n",
    "\n"
   ]
  },
  {
   "cell_type": "markdown",
   "metadata": {},
   "source": [
    "## Global Definitions"
   ]
  },
  {
   "cell_type": "code",
   "execution_count": 49,
   "metadata": {},
   "outputs": [],
   "source": [
    "import random\n",
    "\n",
    "#~ Globals\n",
    "class Card:\n",
    "    def __init__(self, value, suit):\n",
    "        self.value = value\n",
    "        self.suit = suit #- Ace = 1, Jack = 11, Queen = 12, King = 13\n",
    "    def __repr__(self):\n",
    "        # Change numbers to match face of card if needed\n",
    "        cardName = self.value\n",
    "        match cardName:\n",
    "            case 1:\n",
    "                cardName = \"Ace\"\n",
    "            case 11:\n",
    "                cardName = \"Jack\"\n",
    "            case 12:\n",
    "                cardName = \"Queen\"\n",
    "            case 13:\n",
    "                cardName = \"King\"    \n",
    "        return str(cardName) + \" \" + self.suit\n",
    "\n",
    "suits = [\"Heart\", \"Diamond\", \"Spade\", \"Club\"]\n",
    "fullDeck = []\n",
    "for suit in suits:\n",
    "    for i in range(1,14):\n",
    "        fullDeck.append(Card(i,suit))\n",
    "\n",
    "#~ Functions\n",
    "def shuffleCards(arr):\n",
    "    random.shuffle(arr)\n",
    "\n",
    "#~ Finished function to play games until winner, only used during later repeated calls.\n",
    "def playGame():\n",
    "    #- Function to play games until either player gets 4 aces, returns # of games it took\n",
    "    gameWon = False\n",
    "    gameCount = 0\n",
    "\n",
    "    while gameWon == False:\n",
    "        deck = fullDeck.copy()\n",
    "        shuffleCards(deck)\n",
    "\n",
    "        playerHands = [[],[],[],[]]\n",
    "\n",
    "        #' Each player takes turns drawing a card until 11 cards per hand\n",
    "        for i in range(0,44):\n",
    "            playerChoice = i % 4\n",
    "            playerHands[playerChoice].append(deck.pop())\n",
    "\n",
    "        #' Check each of the 4 hands to see if anyone has aces\n",
    "        for i in range(0,4):\n",
    "            numOfAces = sum(1 for card in playerHands[i] if card.value == 1)\n",
    "            \n",
    "            if(numOfAces > 0):\n",
    "                #- If there are any aces and if it's not exactly 4 we know that no one has all 4, so we can skip other checks\n",
    "                if(numOfAces < 4):\n",
    "                    break\n",
    "                #' We only get here if there are 4 aces in current hand\n",
    "                gameWon = True\n",
    "                break\n",
    "        \n",
    "        #' No aces found\n",
    "        gameCount += 1\n",
    "    \n",
    "    return gameCount"
   ]
  },
  {
   "cell_type": "markdown",
   "metadata": {},
   "source": [
    "## Have all players draw cards and see if there is a winner:"
   ]
  },
  {
   "cell_type": "code",
   "execution_count": 48,
   "metadata": {},
   "outputs": [
    {
     "name": "stdout",
     "output_type": "stream",
     "text": [
      "Player 1's hand: [8 Club, 9 Diamond, Jack Spade, Queen Club, 5 Diamond, 10 Spade, Ace Spade, 6 Diamond, Jack Diamond, 4 Diamond, King Diamond]\n",
      "Player 2's hand: [6 Heart, 10 Heart, King Spade, 4 Club, 2 Heart, Queen Heart, King Heart, 7 Club, Queen Spade, King Club, 4 Heart]\n",
      "Player 3's hand: [10 Diamond, 9 Spade, Ace Heart, Jack Club, 7 Heart, Ace Club, 2 Spade, 3 Club, Queen Diamond, 5 Spade, 2 Diamond]\n",
      "Player 4's hand: [7 Diamond, 6 Club, 6 Spade, 3 Spade, 3 Diamond, 8 Heart, 7 Spade, 8 Diamond, 5 Club, Ace Diamond, 9 Heart]\n",
      "No winners here\n"
     ]
    }
   ],
   "source": [
    "#- This is a single game (with most likely no winners) it will show all players hands and the win or lose state\n",
    "deck = fullDeck.copy()\n",
    "shuffleCards(deck)\n",
    "\n",
    "playerHands = [[],[],[],[]]\n",
    "\n",
    "#' Each player takes turns drawing a card until 11 cards per hand\n",
    "for i in range(0,44):\n",
    "    playerChoice = i % 4\n",
    "    playerHands[playerChoice].append(deck.pop())\n",
    "\n",
    "#' Print out all 4 player's hands\n",
    "for i in range(0,4):\n",
    "    print(\"Player \" + str(i+1) + \"'s hand: \" + str(playerHands[i]))\n",
    "\n",
    "#' Check each of the 4 hands to see if anyone has aces\n",
    "for i in range(0,4):\n",
    "    numOfAces = sum(1 for card in playerHands[i] if card.value == 1)\n",
    "\n",
    "    if(numOfAces > 0):\n",
    "        #- If there are any aces and if it's not exactly 4 we know that no one has all 4, so we can skip other checks\n",
    "        if(numOfAces < 4):\n",
    "            print(\"No winners here\")\n",
    "            break\n",
    "        #' We only get here if there are 4 aces in current hand\n",
    "        print(\"Winner is player \" + str(i+1))\n",
    "        break"
   ]
  },
  {
   "cell_type": "markdown",
   "metadata": {},
   "source": [
    "## Play until a player wins, printing the results:"
   ]
  },
  {
   "cell_type": "code",
   "execution_count": 57,
   "metadata": {},
   "outputs": [
    {
     "name": "stdout",
     "output_type": "stream",
     "text": [
      "Player 4 won after 38 games\n",
      "Player 4's hand: [King Diamond, Ace Club, 10 Heart, Ace Heart, 2 Diamond, 3 Heart, Ace Diamond, 2 Spade, Jack Spade, Ace Spade, 8 Diamond]\n"
     ]
    }
   ],
   "source": [
    "#- This is different than global playGame due to its extra printing to show detail\n",
    "gameWon = False\n",
    "gameCount = 0\n",
    "\n",
    "while gameWon == False:\n",
    "    deck = fullDeck.copy()\n",
    "    shuffleCards(deck)\n",
    "\n",
    "    playerHands = [[],[],[],[]]\n",
    "\n",
    "    #' Each player takes turns drawing a card until 11 cards per hand\n",
    "    for i in range(0,44):\n",
    "        playerChoice = i % 4\n",
    "        playerHands[playerChoice].append(deck.pop())\n",
    "\n",
    "    #' Check each of the 4 hands to see if anyone has aces\n",
    "    for i in range(0,4):\n",
    "        numOfAces = sum(1 for card in playerHands[i] if card.value == 1)\n",
    "        #- If there are any aces and if it's not exactly 4 we know that no one has all 4\n",
    "        if(numOfAces > 0):\n",
    "            if(numOfAces < 4):\n",
    "                break\n",
    "            #' We only get here if there are 4 aces in current hand\n",
    "            print(\"Player \" + str(i+1) +\" won after \" + str(gameCount) + \" games\")\n",
    "            print(\"Player \" + str(i+1) + \"'s hand: \" + str(playerHands[i]))\n",
    "            gameWon = True\n",
    "            break\n",
    "    \n",
    "    #' No aces found\n",
    "    gameCount += 1"
   ]
  },
  {
   "cell_type": "markdown",
   "metadata": {},
   "source": [
    "## Play until a player wins, do this 100 times and print the average # of games it took:"
   ]
  },
  {
   "cell_type": "code",
   "execution_count": 32,
   "metadata": {},
   "outputs": [
    {
     "name": "stdout",
     "output_type": "stream",
     "text": [
      "[227, 37, 375, 138, 10, 110, 451, 7, 235, 73, 250, 472, 84, 140, 39, 386, 345, 212, 69, 220, 28, 132, 131, 25, 86, 92, 29, 159, 266, 576, 1, 83, 24, 33, 46, 139, 704, 198, 144, 441, 354, 78, 241, 314, 131, 143, 285, 34, 44, 176, 397, 637, 5, 666, 520, 2, 377, 51, 67, 143, 118, 14, 61, 173, 125, 194, 107, 72, 141, 311, 571, 291, 190, 172, 49, 197, 83, 232, 89, 108, 74, 505, 119, 614, 5, 3, 103, 17, 532, 60, 255, 38, 580, 224, 151, 671, 33, 227, 70, 438, ]\n",
      "Average # of games per win = 198.99\n"
     ]
    }
   ],
   "source": [
    "# Play the game 100 times and find the average # of wins\n",
    "winAmounts = []\n",
    "print(\"[\", end=\"\")\n",
    "\n",
    "#' Play the game until someone wins, store how many games that took, and do this 100 times\n",
    "while len(winAmounts) < 100:\n",
    "    winAmounts.append(playGame())\n",
    "    print(str(winAmounts[-1]), end=\", \")\n",
    "\n",
    "#' Average of the number of games it took to find a winner, this is printed after playing 100 games.\n",
    "average = sum(winAmounts) / len(winAmounts)\n",
    "print(\"]\\nAverage # of games per win = \" + str(average))"
   ]
  },
  {
   "cell_type": "markdown",
   "metadata": {},
   "source": [
    "## Play until a player wins, do this 100 times, record the average # of games it took, do this 100 times and print the average of averages:"
   ]
  },
  {
   "cell_type": "code",
   "execution_count": 58,
   "metadata": {},
   "outputs": [
    {
     "name": "stdout",
     "output_type": "stream",
     "text": [
      "[189.19, 233.56, 206.0, 233.88, 219.08, 203.36, 212.16, 221.43, 250.8, 224.31, 207.4, 186.9, 196.94, 184.67, 224.44, 208.91, 184.29, 217.6, 212.74, 220.42, 198.02, 231.48, 192.26, 181.85, 194.42, 194.65, 170.28, 200.28, 191.31, 218.11, 192.27, 209.72, 186.66, 246.06, 236.0, 183.26, 206.7, 230.74, 215.76, 208.28, 191.78, 238.04, 190.43, 190.88, 200.12, 213.06, 239.41, 196.6, 213.1, 207.48, 241.2, 177.41, 202.51, 242.62, 211.51, 217.97, 220.8, 193.29, 205.04, 217.25, 191.16, 155.78, 223.54, 213.36, 213.1, 155.41, 224.75, 193.42, 197.25, 209.88, 180.7, 232.23, 175.28, 168.97, 195.86, 208.85, 192.34, 211.56, 199.0, 209.13, 206.16, 214.89, 179.2, 202.7, 261.91, 214.32, 206.33, 226.03, 190.91, 208.85, 218.62, 191.9, 196.04, 207.31, 213.71, 211.39, 226.39, 203.44, 225.71, 168.92, ]\n",
      "Average of averages = 206.62990000000002\n"
     ]
    }
   ],
   "source": [
    "#~ Driver code\n",
    "#- Each item in this list will be the average games per win out of 100 games\n",
    "experimentAverages = []\n",
    "print(\"[\", end=\"\")\n",
    "\n",
    "#- Run this experiment 100 times...\n",
    "while len(experimentAverages) < 100:\n",
    "    #' Each item in this list will be the # of games it took for a player to win\n",
    "    winAmounts = []\n",
    "    \n",
    "    #' Play the game until someone wins, store how many games that took, and do this 100 times\n",
    "    while len(winAmounts) < 100:\n",
    "        winAmounts.append(playGame())\n",
    "\n",
    "    #' Average of the number of games it took to find a winner, this is printed after playing 100 games.\n",
    "    average = sum(winAmounts) / len(winAmounts)\n",
    "    print(str(average), end=\", \")\n",
    "    \n",
    "    experimentAverages.append(average)\n",
    "\n",
    "print(\"]\\nAverage of averages = \" + str(sum(experimentAverages)/len(experimentAverages)))"
   ]
  }
 ],
 "metadata": {
  "kernelspec": {
   "display_name": "Python 3 (ipykernel)",
   "language": "python",
   "name": "python3"
  },
  "language_info": {
   "codemirror_mode": {
    "name": "ipython",
    "version": 3
   },
   "file_extension": ".py",
   "mimetype": "text/x-python",
   "name": "python",
   "nbconvert_exporter": "python",
   "pygments_lexer": "ipython3",
   "version": "3.12.6"
  }
 },
 "nbformat": 4,
 "nbformat_minor": 4
}
