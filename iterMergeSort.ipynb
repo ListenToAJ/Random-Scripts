{
 "cells": [
  {
   "cell_type": "markdown",
   "metadata": {},
   "source": [
    "## Iterative Merge Sort\n",
    "#### By Anthony Simao\n",
    "### Number of iterations required:\n",
    "- n = length of input; number of iterations required = ⌈log₂(n)⌉\n",
    "- Ex. [4,3] = 2 iterations, [8,7,6,5,4,3,2,1] = 3 iterations, [9,8,7,6,5,4,3,2,1] = 4 iterations\n",
    "### How I did it:\n",
    "- Start with a list of length n.\n",
    "    - Ex. [ 8, 2, 3, 1, 6, 5, 4, 7 ], n = 8\n",
    "- Start with initial sorting size of 2, and split starting list into n/2 groups of size 2.\n",
    "    - Ex. [ [8,2], [3,1], [6,5], [4,7] ], size = 2, # of groups = 4\n",
    "- Call merge on each of the groups, and then place the newly sorted subgroups back into the array.\n",
    "    - Ex. [ 2, 8, 1, 3, 5, 6, 4, 7 ], iteration #1\n",
    "- Sorting size is now doubled, repeat step 2 with new sort size.\n",
    "    - Ex. [ [8,2,1,3], [5,6,4,7] ], size = 4, # of groups = 2\n",
    "- Call merge on each of the groups, and then place the newly sorted subgroups back into the array.\n",
    "    - Ex. [ 1, 2, 3, 8, 4, 5, 6, 7 ], iteration #2\n",
    "- Sorting size is now doubled, repeat step 2 with new sort size.\n",
    "    - Ex. [ [1,2,3,8,4,5,6,7] ], size = 8, # of groups = 1\n",
    "- Call merge on each of the groups, and then place the newly sorted subgroups back into the array.\n",
    "    - Ex. [ 1, 2, 3, 4, 5, 6, 7, 8 ], iteration #3\n",
    "- We now have a sorted list!"
   ]
  },
  {
   "cell_type": "code",
   "execution_count": 1,
   "metadata": {},
   "outputs": [],
   "source": [
    "import random # Just for generating random lists to sort\n",
    "from math import log2 # Just for printing iteration number\n",
    "\n",
    "#~ Merge function for combining 2 pre-sorted lists\n",
    "def merge(left, right, parent):\n",
    "    output = []\n",
    "    leftIndex = 0\n",
    "    rightIndex = 0\n",
    "\n",
    "    #- Combining into one list\n",
    "    while(len(output) < len(parent)):\n",
    "        #' Once either list has been exhausted we can safely append the other lists leftovers\n",
    "        if leftIndex == len(left):\n",
    "            output += right[rightIndex:]\n",
    "            continue\n",
    "        elif rightIndex == len(right):\n",
    "            output += left[leftIndex:]\n",
    "            continue\n",
    "        \n",
    "        #' We start at the front of each of the two lists and compare\n",
    "        if left[leftIndex] <= right[rightIndex]:\n",
    "            output.append(left[leftIndex])\n",
    "            leftIndex = leftIndex + 1\n",
    "        else:\n",
    "            output.append(right[rightIndex])\n",
    "            rightIndex = rightIndex + 1\n",
    "\n",
    "    #- Outputting our now sorted combined list\n",
    "    parent[:] = output\n",
    "\n",
    "#~ Mergesort recursive function for breaking lists apart, calls on merge()\n",
    "def mergeSort(arr):\n",
    "\n",
    "    #- Start merge size\n",
    "    size = 2\n",
    "    #- Sort groups until we have surpassed length of array\n",
    "    while size/2 < len(arr):\n",
    "        #- Array to hold sublists of size length\n",
    "        subLists = []\n",
    "        \n",
    "        #- Store all sublists of length size in sublist parent array Ex. \n",
    "        for i in range( len(arr)//size + (len(arr) % size > 0) ):\n",
    "            subLists.append(arr[i*size:i*size+size])\n",
    "        \n",
    "        #- Call merge on each item within the sublist and replace the original section of array with newly sorted sublist\n",
    "        for i in range(len(subLists)):\n",
    "            merge(subLists[i][:size//2], subLists[i][size//2:], subLists[i])\n",
    "            arr[i*size:i*size+size] = subLists[i]\n",
    "        \n",
    "        #- Export iteration information for readabikity (Can be deleted with math import)\n",
    "        print(\"Iteration #\" + str(int(log2(size))) + \", Sort Size = \" + str(size) + \": \" + str(arr[:]))\n",
    "\n",
    "        #- Double size to be sorted\n",
    "        size *= 2"
   ]
  },
  {
   "cell_type": "code",
   "execution_count": 35,
   "metadata": {},
   "outputs": [
    {
     "name": "stdout",
     "output_type": "stream",
     "text": [
      "Your list BEFORE sorting: [38, 45, 84, 99, 42, 17, 9, 69]\n",
      "\n",
      "Iteration #1, Sort Size = 2: [38, 45, 84, 99, 17, 42, 9, 69]\n",
      "Iteration #2, Sort Size = 4: [38, 45, 84, 99, 9, 17, 42, 69]\n",
      "Iteration #3, Sort Size = 8: [9, 17, 38, 42, 45, 69, 84, 99]\n",
      "\n",
      "Your list AFTER sorting:  [9, 17, 38, 42, 45, 69, 84, 99]\n"
     ]
    }
   ],
   "source": [
    "#~ Driver Code\n",
    "arr = random.sample(range(1, 100), 8)\n",
    "print(\"Your list BEFORE sorting: \" + str(arr) + \"\\n\")\n",
    "mergeSort(arr)\n",
    "print(\"\\nYour list AFTER sorting:  \" + str(arr))"
   ]
  }
 ],
 "metadata": {
  "kernelspec": {
   "display_name": "Python 3 (ipykernel)",
   "language": "python",
   "name": "python3"
  },
  "language_info": {
   "codemirror_mode": {
    "name": "ipython",
    "version": 3
   },
   "file_extension": ".py",
   "mimetype": "text/x-python",
   "name": "python",
   "nbconvert_exporter": "python",
   "pygments_lexer": "ipython3",
   "version": "3.12.6"
  }
 },
 "nbformat": 4,
 "nbformat_minor": 4
}
